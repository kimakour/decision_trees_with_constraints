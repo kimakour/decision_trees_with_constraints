{
 "cells": [
  {
   "cell_type": "code",
   "execution_count": 1,
   "metadata": {},
   "outputs": [],
   "source": [
    "import pandas as pd \n",
    "from BinaryDecisionTreeConstraints.BinaryDecisionTreeConstraints import Node\n",
    "import numpy as np"
   ]
  },
  {
   "cell_type": "code",
   "execution_count": 2,
   "metadata": {},
   "outputs": [],
   "source": [
    "df_train = pd.read_csv('train.csv')\n",
    "df_test = pd.read_csv('test.csv')"
   ]
  },
  {
   "cell_type": "code",
   "execution_count": 7,
   "metadata": {},
   "outputs": [],
   "source": [
    "# Defining the X and Y matrices\n",
    "Y = df_train['Survived'].values\n",
    "X = df_train[['Sex','Cabin','Age','Fare','Pclass','Embarked']]\n",
    "# Saving the feature list \n",
    "features = list(X.columns)\n",
    "nb_stop = np.ceil(len(df_train) * 0.03)\n",
    "list_constraints = [ [\"0root\",'Embarked',\"categorical\"]]\n",
    "dataframe_constraints = pd.DataFrame(list_constraints)\n",
    "dataframe_constraints = dataframe_constraints.rename(columns={0:\"path\",1:\"feature\",2:\"type_feature\"})\n",
    "hp = {\n",
    "    \"max_depth\": 4,\n",
    "    \"stop\" : nb_stop,\n",
    "    \"dataframe_constraints\": dataframe_constraints\n",
    "}\n",
    "\n",
    "root = Node(Y, X, **hp)"
   ]
  },
  {
   "cell_type": "code",
   "execution_count": null,
   "metadata": {},
   "outputs": [],
   "source": []
  },
  {
   "cell_type": "code",
   "execution_count": 8,
   "metadata": {},
   "outputs": [
    {
     "data": {
      "text/html": [
       "<div>\n",
       "<style scoped>\n",
       "    .dataframe tbody tr th:only-of-type {\n",
       "        vertical-align: middle;\n",
       "    }\n",
       "\n",
       "    .dataframe tbody tr th {\n",
       "        vertical-align: top;\n",
       "    }\n",
       "\n",
       "    .dataframe thead th {\n",
       "        text-align: right;\n",
       "    }\n",
       "</style>\n",
       "<table border=\"1\" class=\"dataframe\">\n",
       "  <thead>\n",
       "    <tr style=\"text-align: right;\">\n",
       "      <th></th>\n",
       "      <th>path</th>\n",
       "      <th>feature</th>\n",
       "      <th>type_feature</th>\n",
       "    </tr>\n",
       "  </thead>\n",
       "  <tbody>\n",
       "    <tr>\n",
       "      <th>0</th>\n",
       "      <td>0root</td>\n",
       "      <td>Embarked</td>\n",
       "      <td>categorical</td>\n",
       "    </tr>\n",
       "  </tbody>\n",
       "</table>\n",
       "</div>"
      ],
      "text/plain": [
       "    path   feature type_feature\n",
       "0  0root  Embarked  categorical"
      ]
     },
     "execution_count": 8,
     "metadata": {},
     "output_type": "execute_result"
    }
   ],
   "source": [
    "dataframe_constraints"
   ]
  },
  {
   "cell_type": "code",
   "execution_count": 9,
   "metadata": {},
   "outputs": [
    {
     "name": "stderr",
     "output_type": "stream",
     "text": [
      "C:\\Users\\kaci-\\Anaconda3\\envs\\mynewenv\\lib\\site-packages\\pandas\\core\\algorithms.py:465: FutureWarning: elementwise comparison failed; returning scalar instead, but in the future will perform elementwise comparison\n",
      "  return f(comps, values)\n",
      "C:\\Users\\kaci-\\Anaconda3\\envs\\mynewenv\\lib\\site-packages\\pandas\\core\\algorithms.py:465: FutureWarning: elementwise comparison failed; returning scalar instead, but in the future will perform elementwise comparison\n",
      "  return f(comps, values)\n",
      "C:\\Users\\kaci-\\Anaconda3\\envs\\mynewenv\\lib\\site-packages\\pandas\\core\\algorithms.py:465: FutureWarning: elementwise comparison failed; returning scalar instead, but in the future will perform elementwise comparison\n",
      "  return f(comps, values)\n",
      "C:\\Users\\kaci-\\Anaconda3\\envs\\mynewenv\\lib\\site-packages\\pandas\\core\\algorithms.py:465: FutureWarning: elementwise comparison failed; returning scalar instead, but in the future will perform elementwise comparison\n",
      "  return f(comps, values)\n"
     ]
    },
    {
     "name": "stdout",
     "output_type": "stream",
     "text": [
      "0 Embarked ['S' 'Q'] categorical\n",
      "1 Cabin ['A14' 'C128' 'C30' 'C46' 'C87' 'C91' 'C95' 'D26' 'D30' 'D46' 'C124' 'D50'\n",
      " 'E31' 'E38' 'E46' 'E58' 'E63' 'E77' 'F G63' 'F G73' 'F38' 'D6' 'C110' 'T'\n",
      " 'A32' 'B102' 'A36' 'B51 B53 B55' 'B38' 'B71' 'A24' 'B19' 'A19' 'B94'\n",
      " 'C22 C26' 'C78' 'B22' 'C2' 'C23 C25 C27' 'E44' 'C123' 'E67' 'G6' 'C83'] categorical\n",
      "2 Pclass 1.5 numerical\n"
     ]
    },
    {
     "name": "stderr",
     "output_type": "stream",
     "text": [
      "C:\\Users\\kaci-\\Anaconda3\\envs\\mynewenv\\lib\\site-packages\\pandas\\core\\algorithms.py:465: FutureWarning: elementwise comparison failed; returning scalar instead, but in the future will perform elementwise comparison\n",
      "  return f(comps, values)\n",
      "C:\\Users\\kaci-\\Anaconda3\\envs\\mynewenv\\lib\\site-packages\\pandas\\core\\algorithms.py:465: FutureWarning: elementwise comparison failed; returning scalar instead, but in the future will perform elementwise comparison\n",
      "  return f(comps, values)\n",
      "C:\\Users\\kaci-\\Anaconda3\\envs\\mynewenv\\lib\\site-packages\\pandas\\core\\algorithms.py:465: FutureWarning: elementwise comparison failed; returning scalar instead, but in the future will perform elementwise comparison\n",
      "  return f(comps, values)\n",
      "C:\\Users\\kaci-\\Anaconda3\\envs\\mynewenv\\lib\\site-packages\\pandas\\core\\algorithms.py:465: FutureWarning: elementwise comparison failed; returning scalar instead, but in the future will perform elementwise comparison\n",
      "  return f(comps, values)\n",
      "C:\\Users\\kaci-\\Anaconda3\\envs\\mynewenv\\lib\\site-packages\\pandas\\core\\algorithms.py:465: FutureWarning: elementwise comparison failed; returning scalar instead, but in the future will perform elementwise comparison\n",
      "  return f(comps, values)\n"
     ]
    },
    {
     "name": "stdout",
     "output_type": "stream",
     "text": [
      "3 Sex ['male'] categorical\n"
     ]
    },
    {
     "name": "stderr",
     "output_type": "stream",
     "text": [
      "C:\\Users\\kaci-\\Anaconda3\\envs\\mynewenv\\lib\\site-packages\\pandas\\core\\algorithms.py:465: FutureWarning: elementwise comparison failed; returning scalar instead, but in the future will perform elementwise comparison\n",
      "  return f(comps, values)\n"
     ]
    }
   ],
   "source": [
    "root.grow_tree()"
   ]
  },
  {
   "cell_type": "code",
   "execution_count": 10,
   "metadata": {},
   "outputs": [
    {
     "data": {
      "text/html": [
       "<div>\n",
       "<style scoped>\n",
       "    .dataframe tbody tr th:only-of-type {\n",
       "        vertical-align: middle;\n",
       "    }\n",
       "\n",
       "    .dataframe tbody tr th {\n",
       "        vertical-align: top;\n",
       "    }\n",
       "\n",
       "    .dataframe thead th {\n",
       "        text-align: right;\n",
       "    }\n",
       "</style>\n",
       "<table border=\"1\" class=\"dataframe\">\n",
       "  <thead>\n",
       "    <tr style=\"text-align: right;\">\n",
       "      <th></th>\n",
       "      <th>path</th>\n",
       "      <th>rule</th>\n",
       "      <th>distribution</th>\n",
       "      <th>probabilite</th>\n",
       "      <th>prediction</th>\n",
       "    </tr>\n",
       "  </thead>\n",
       "  <tbody>\n",
       "    <tr>\n",
       "      <th>0</th>\n",
       "      <td>0root</td>\n",
       "      <td></td>\n",
       "      <td>{0: 549, 1: 342}</td>\n",
       "      <td>0.384</td>\n",
       "      <td>0</td>\n",
       "    </tr>\n",
       "    <tr>\n",
       "      <th>1</th>\n",
       "      <td>0root1left_node</td>\n",
       "      <td>Embarked in ['S' 'Q']</td>\n",
       "      <td>{0: 474, 1: 247}</td>\n",
       "      <td>0.343</td>\n",
       "      <td>0</td>\n",
       "    </tr>\n",
       "    <tr>\n",
       "      <th>2</th>\n",
       "      <td>0root1left_node2left_node</td>\n",
       "      <td>Cabin in ['A14' 'C128' 'C30' 'C46' 'C87' 'C91...</td>\n",
       "      <td>{1: 12, 0: 50}</td>\n",
       "      <td>0.194</td>\n",
       "      <td>0</td>\n",
       "    </tr>\n",
       "    <tr>\n",
       "      <th>3</th>\n",
       "      <td>0root1left_node2right_node</td>\n",
       "      <td>Cabin not in ['A14' 'C128' 'C30' 'C46' 'C87' ...</td>\n",
       "      <td>{0: 424, 1: 235}</td>\n",
       "      <td>0.357</td>\n",
       "      <td>0</td>\n",
       "    </tr>\n",
       "    <tr>\n",
       "      <th>4</th>\n",
       "      <td>0root1left_node2right_node3left_node</td>\n",
       "      <td>Pclass &lt;= 1.5</td>\n",
       "      <td>{1: 65, 0: 11}</td>\n",
       "      <td>0.855</td>\n",
       "      <td>1</td>\n",
       "    </tr>\n",
       "    <tr>\n",
       "      <th>5</th>\n",
       "      <td>0root1left_node2right_node3right_node</td>\n",
       "      <td>Pclass&gt; 1.5</td>\n",
       "      <td>{0: 413, 1: 170}</td>\n",
       "      <td>0.292</td>\n",
       "      <td>0</td>\n",
       "    </tr>\n",
       "    <tr>\n",
       "      <th>6</th>\n",
       "      <td>0root1left_node2right_node3right_node4left_node</td>\n",
       "      <td>Sex in ['male']</td>\n",
       "      <td>{0: 346, 1: 52}</td>\n",
       "      <td>0.131</td>\n",
       "      <td>0</td>\n",
       "    </tr>\n",
       "    <tr>\n",
       "      <th>7</th>\n",
       "      <td>0root1left_node2right_node3right_node4right_node</td>\n",
       "      <td>Sex not in ['male']</td>\n",
       "      <td>{1: 118, 0: 67}</td>\n",
       "      <td>0.638</td>\n",
       "      <td>1</td>\n",
       "    </tr>\n",
       "    <tr>\n",
       "      <th>8</th>\n",
       "      <td>0root1right_node</td>\n",
       "      <td>Embarked not in ['S' 'Q']</td>\n",
       "      <td>{1: 95, 0: 75}</td>\n",
       "      <td>0.559</td>\n",
       "      <td>1</td>\n",
       "    </tr>\n",
       "  </tbody>\n",
       "</table>\n",
       "</div>"
      ],
      "text/plain": [
       "                                               path  \\\n",
       "0                                             0root   \n",
       "1                                   0root1left_node   \n",
       "2                         0root1left_node2left_node   \n",
       "3                        0root1left_node2right_node   \n",
       "4              0root1left_node2right_node3left_node   \n",
       "5             0root1left_node2right_node3right_node   \n",
       "6   0root1left_node2right_node3right_node4left_node   \n",
       "7  0root1left_node2right_node3right_node4right_node   \n",
       "8                                  0root1right_node   \n",
       "\n",
       "                                                rule      distribution  \\\n",
       "0                                                     {0: 549, 1: 342}   \n",
       "1                             Embarked in ['S' 'Q']   {0: 474, 1: 247}   \n",
       "2   Cabin in ['A14' 'C128' 'C30' 'C46' 'C87' 'C91...    {1: 12, 0: 50}   \n",
       "3   Cabin not in ['A14' 'C128' 'C30' 'C46' 'C87' ...  {0: 424, 1: 235}   \n",
       "4                                      Pclass <= 1.5    {1: 65, 0: 11}   \n",
       "5                                        Pclass> 1.5  {0: 413, 1: 170}   \n",
       "6                                   Sex in ['male']    {0: 346, 1: 52}   \n",
       "7                               Sex not in ['male']    {1: 118, 0: 67}   \n",
       "8                         Embarked not in ['S' 'Q']     {1: 95, 0: 75}   \n",
       "\n",
       "   probabilite  prediction  \n",
       "0        0.384           0  \n",
       "1        0.343           0  \n",
       "2        0.194           0  \n",
       "3        0.357           0  \n",
       "4        0.855           1  \n",
       "5        0.292           0  \n",
       "6        0.131           0  \n",
       "7        0.638           1  \n",
       "8        0.559           1  "
      ]
     },
     "execution_count": 10,
     "metadata": {},
     "output_type": "execute_result"
    }
   ],
   "source": [
    "root.print_tree_dataframe()"
   ]
  },
  {
   "cell_type": "code",
   "execution_count": 11,
   "metadata": {},
   "outputs": [],
   "source": [
    "predictions = root.predict(df_test[['Sex','Cabin','Age','Fare','Pclass','Embarked']])"
   ]
  },
  {
   "cell_type": "code",
   "execution_count": 12,
   "metadata": {},
   "outputs": [
    {
     "data": {
      "text/html": [
       "<div>\n",
       "<style scoped>\n",
       "    .dataframe tbody tr th:only-of-type {\n",
       "        vertical-align: middle;\n",
       "    }\n",
       "\n",
       "    .dataframe tbody tr th {\n",
       "        vertical-align: top;\n",
       "    }\n",
       "\n",
       "    .dataframe thead th {\n",
       "        text-align: right;\n",
       "    }\n",
       "</style>\n",
       "<table border=\"1\" class=\"dataframe\">\n",
       "  <thead>\n",
       "    <tr style=\"text-align: right;\">\n",
       "      <th></th>\n",
       "      <th>prediction</th>\n",
       "      <th>probability</th>\n",
       "    </tr>\n",
       "  </thead>\n",
       "  <tbody>\n",
       "    <tr>\n",
       "      <th>0</th>\n",
       "      <td>0</td>\n",
       "      <td>0.131</td>\n",
       "    </tr>\n",
       "    <tr>\n",
       "      <th>1</th>\n",
       "      <td>1</td>\n",
       "      <td>0.638</td>\n",
       "    </tr>\n",
       "    <tr>\n",
       "      <th>2</th>\n",
       "      <td>0</td>\n",
       "      <td>0.131</td>\n",
       "    </tr>\n",
       "    <tr>\n",
       "      <th>3</th>\n",
       "      <td>0</td>\n",
       "      <td>0.131</td>\n",
       "    </tr>\n",
       "    <tr>\n",
       "      <th>4</th>\n",
       "      <td>1</td>\n",
       "      <td>0.638</td>\n",
       "    </tr>\n",
       "    <tr>\n",
       "      <th>...</th>\n",
       "      <td>...</td>\n",
       "      <td>...</td>\n",
       "    </tr>\n",
       "    <tr>\n",
       "      <th>413</th>\n",
       "      <td>0</td>\n",
       "      <td>0.131</td>\n",
       "    </tr>\n",
       "    <tr>\n",
       "      <th>414</th>\n",
       "      <td>1</td>\n",
       "      <td>0.559</td>\n",
       "    </tr>\n",
       "    <tr>\n",
       "      <th>415</th>\n",
       "      <td>0</td>\n",
       "      <td>0.131</td>\n",
       "    </tr>\n",
       "    <tr>\n",
       "      <th>416</th>\n",
       "      <td>0</td>\n",
       "      <td>0.131</td>\n",
       "    </tr>\n",
       "    <tr>\n",
       "      <th>417</th>\n",
       "      <td>1</td>\n",
       "      <td>0.559</td>\n",
       "    </tr>\n",
       "  </tbody>\n",
       "</table>\n",
       "<p>418 rows × 2 columns</p>\n",
       "</div>"
      ],
      "text/plain": [
       "     prediction  probability\n",
       "0             0        0.131\n",
       "1             1        0.638\n",
       "2             0        0.131\n",
       "3             0        0.131\n",
       "4             1        0.638\n",
       "..          ...          ...\n",
       "413           0        0.131\n",
       "414           1        0.559\n",
       "415           0        0.131\n",
       "416           0        0.131\n",
       "417           1        0.559\n",
       "\n",
       "[418 rows x 2 columns]"
      ]
     },
     "execution_count": 12,
     "metadata": {},
     "output_type": "execute_result"
    }
   ],
   "source": [
    "predictions"
   ]
  },
  {
   "cell_type": "markdown",
   "metadata": {},
   "source": [
    "### rajouter la contrainte de valeur pour me dataframe constraints ( en gros faire la contrainte de la variable et de quoi elle serait égale ) + rajouter la condition du gain + trouver un moyen de plot le graph"
   ]
  }
 ],
 "metadata": {
  "kernelspec": {
   "display_name": "Python 3",
   "language": "python",
   "name": "python3"
  },
  "language_info": {
   "codemirror_mode": {
    "name": "ipython",
    "version": 3
   },
   "file_extension": ".py",
   "mimetype": "text/x-python",
   "name": "python",
   "nbconvert_exporter": "python",
   "pygments_lexer": "ipython3",
   "version": "3.7.9"
  }
 },
 "nbformat": 4,
 "nbformat_minor": 5
}
